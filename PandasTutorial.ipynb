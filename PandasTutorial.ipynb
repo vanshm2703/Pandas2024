{
 "cells": [
  {
   "cell_type": "code",
   "execution_count": 2,
   "id": "aeb86a31-2319-4549-9858-71422bd5cacb",
   "metadata": {},
   "outputs": [],
   "source": [
    "import numpy as np\n",
    "import pandas as pd"
   ]
  },
  {
   "cell_type": "code",
   "execution_count": 3,
   "id": "25fa01d5-24c4-4d6f-a6db-c048552e114b",
   "metadata": {},
   "outputs": [],
   "source": [
    "dict1={\n",
    "    \"name\":['harry','vansh','rajesh','max'],\n",
    "    \"marks\":[12,23,34,45],\n",
    "    \"city\":['mumbai','chennai','kolkata','delhi']\n",
    "}\n"
   ]
  },
  {
   "cell_type": "code",
   "execution_count": 4,
   "id": "cf6e52ea-a0b2-480c-aeaf-f78e9e79dc46",
   "metadata": {},
   "outputs": [],
   "source": [
    "df=pd.DataFrame(dict1)\n"
   ]
  },
  {
   "cell_type": "code",
   "execution_count": 5,
   "id": "3cd6fe6f-4ced-482d-86c8-214aba6bc351",
   "metadata": {},
   "outputs": [
    {
     "data": {
      "text/html": [
       "<div>\n",
       "<style scoped>\n",
       "    .dataframe tbody tr th:only-of-type {\n",
       "        vertical-align: middle;\n",
       "    }\n",
       "\n",
       "    .dataframe tbody tr th {\n",
       "        vertical-align: top;\n",
       "    }\n",
       "\n",
       "    .dataframe thead th {\n",
       "        text-align: right;\n",
       "    }\n",
       "</style>\n",
       "<table border=\"1\" class=\"dataframe\">\n",
       "  <thead>\n",
       "    <tr style=\"text-align: right;\">\n",
       "      <th></th>\n",
       "      <th>name</th>\n",
       "      <th>marks</th>\n",
       "      <th>city</th>\n",
       "    </tr>\n",
       "  </thead>\n",
       "  <tbody>\n",
       "    <tr>\n",
       "      <th>0</th>\n",
       "      <td>harry</td>\n",
       "      <td>12</td>\n",
       "      <td>mumbai</td>\n",
       "    </tr>\n",
       "    <tr>\n",
       "      <th>1</th>\n",
       "      <td>vansh</td>\n",
       "      <td>23</td>\n",
       "      <td>chennai</td>\n",
       "    </tr>\n",
       "    <tr>\n",
       "      <th>2</th>\n",
       "      <td>rajesh</td>\n",
       "      <td>34</td>\n",
       "      <td>kolkata</td>\n",
       "    </tr>\n",
       "    <tr>\n",
       "      <th>3</th>\n",
       "      <td>max</td>\n",
       "      <td>45</td>\n",
       "      <td>delhi</td>\n",
       "    </tr>\n",
       "  </tbody>\n",
       "</table>\n",
       "</div>"
      ],
      "text/plain": [
       "     name  marks     city\n",
       "0   harry     12   mumbai\n",
       "1   vansh     23  chennai\n",
       "2  rajesh     34  kolkata\n",
       "3     max     45    delhi"
      ]
     },
     "execution_count": 5,
     "metadata": {},
     "output_type": "execute_result"
    }
   ],
   "source": [
    "df"
   ]
  },
  {
   "cell_type": "code",
   "execution_count": 6,
   "id": "70496290-098a-439f-884e-56b65524c569",
   "metadata": {},
   "outputs": [],
   "source": [
    "df.to_csv('friends.csv')"
   ]
  },
  {
   "cell_type": "code",
   "execution_count": 7,
   "id": "15f839cd-1385-4940-bb7f-776c80c7cdd4",
   "metadata": {},
   "outputs": [],
   "source": [
    "df.to_csv('friends_index_false.csv',index=False)"
   ]
  },
  {
   "cell_type": "code",
   "execution_count": 8,
   "id": "a67cc20b-bdcd-4c3e-b803-8132dadc2ad3",
   "metadata": {},
   "outputs": [
    {
     "data": {
      "text/html": [
       "<div>\n",
       "<style scoped>\n",
       "    .dataframe tbody tr th:only-of-type {\n",
       "        vertical-align: middle;\n",
       "    }\n",
       "\n",
       "    .dataframe tbody tr th {\n",
       "        vertical-align: top;\n",
       "    }\n",
       "\n",
       "    .dataframe thead th {\n",
       "        text-align: right;\n",
       "    }\n",
       "</style>\n",
       "<table border=\"1\" class=\"dataframe\">\n",
       "  <thead>\n",
       "    <tr style=\"text-align: right;\">\n",
       "      <th></th>\n",
       "      <th>name</th>\n",
       "      <th>marks</th>\n",
       "      <th>city</th>\n",
       "    </tr>\n",
       "  </thead>\n",
       "  <tbody>\n",
       "    <tr>\n",
       "      <th>0</th>\n",
       "      <td>harry</td>\n",
       "      <td>12</td>\n",
       "      <td>mumbai</td>\n",
       "    </tr>\n",
       "    <tr>\n",
       "      <th>1</th>\n",
       "      <td>vansh</td>\n",
       "      <td>23</td>\n",
       "      <td>chennai</td>\n",
       "    </tr>\n",
       "  </tbody>\n",
       "</table>\n",
       "</div>"
      ],
      "text/plain": [
       "    name  marks     city\n",
       "0  harry     12   mumbai\n",
       "1  vansh     23  chennai"
      ]
     },
     "execution_count": 8,
     "metadata": {},
     "output_type": "execute_result"
    }
   ],
   "source": [
    "df.head(2)"
   ]
  },
  {
   "cell_type": "code",
   "execution_count": 9,
   "id": "e2703a56-efff-4ddf-9c31-3a696e4babd7",
   "metadata": {},
   "outputs": [
    {
     "data": {
      "text/html": [
       "<div>\n",
       "<style scoped>\n",
       "    .dataframe tbody tr th:only-of-type {\n",
       "        vertical-align: middle;\n",
       "    }\n",
       "\n",
       "    .dataframe tbody tr th {\n",
       "        vertical-align: top;\n",
       "    }\n",
       "\n",
       "    .dataframe thead th {\n",
       "        text-align: right;\n",
       "    }\n",
       "</style>\n",
       "<table border=\"1\" class=\"dataframe\">\n",
       "  <thead>\n",
       "    <tr style=\"text-align: right;\">\n",
       "      <th></th>\n",
       "      <th>name</th>\n",
       "      <th>marks</th>\n",
       "      <th>city</th>\n",
       "    </tr>\n",
       "  </thead>\n",
       "  <tbody>\n",
       "    <tr>\n",
       "      <th>1</th>\n",
       "      <td>vansh</td>\n",
       "      <td>23</td>\n",
       "      <td>chennai</td>\n",
       "    </tr>\n",
       "    <tr>\n",
       "      <th>2</th>\n",
       "      <td>rajesh</td>\n",
       "      <td>34</td>\n",
       "      <td>kolkata</td>\n",
       "    </tr>\n",
       "    <tr>\n",
       "      <th>3</th>\n",
       "      <td>max</td>\n",
       "      <td>45</td>\n",
       "      <td>delhi</td>\n",
       "    </tr>\n",
       "  </tbody>\n",
       "</table>\n",
       "</div>"
      ],
      "text/plain": [
       "     name  marks     city\n",
       "1   vansh     23  chennai\n",
       "2  rajesh     34  kolkata\n",
       "3     max     45    delhi"
      ]
     },
     "execution_count": 9,
     "metadata": {},
     "output_type": "execute_result"
    }
   ],
   "source": [
    "df.tail(3)"
   ]
  },
  {
   "cell_type": "code",
   "execution_count": 10,
   "id": "e56e27e1-27ef-4844-bacf-9d09bfa11ea0",
   "metadata": {},
   "outputs": [
    {
     "data": {
      "text/html": [
       "<div>\n",
       "<style scoped>\n",
       "    .dataframe tbody tr th:only-of-type {\n",
       "        vertical-align: middle;\n",
       "    }\n",
       "\n",
       "    .dataframe tbody tr th {\n",
       "        vertical-align: top;\n",
       "    }\n",
       "\n",
       "    .dataframe thead th {\n",
       "        text-align: right;\n",
       "    }\n",
       "</style>\n",
       "<table border=\"1\" class=\"dataframe\">\n",
       "  <thead>\n",
       "    <tr style=\"text-align: right;\">\n",
       "      <th></th>\n",
       "      <th>marks</th>\n",
       "    </tr>\n",
       "  </thead>\n",
       "  <tbody>\n",
       "    <tr>\n",
       "      <th>count</th>\n",
       "      <td>4.000000</td>\n",
       "    </tr>\n",
       "    <tr>\n",
       "      <th>mean</th>\n",
       "      <td>28.500000</td>\n",
       "    </tr>\n",
       "    <tr>\n",
       "      <th>std</th>\n",
       "      <td>14.200939</td>\n",
       "    </tr>\n",
       "    <tr>\n",
       "      <th>min</th>\n",
       "      <td>12.000000</td>\n",
       "    </tr>\n",
       "    <tr>\n",
       "      <th>25%</th>\n",
       "      <td>20.250000</td>\n",
       "    </tr>\n",
       "    <tr>\n",
       "      <th>50%</th>\n",
       "      <td>28.500000</td>\n",
       "    </tr>\n",
       "    <tr>\n",
       "      <th>75%</th>\n",
       "      <td>36.750000</td>\n",
       "    </tr>\n",
       "    <tr>\n",
       "      <th>max</th>\n",
       "      <td>45.000000</td>\n",
       "    </tr>\n",
       "  </tbody>\n",
       "</table>\n",
       "</div>"
      ],
      "text/plain": [
       "           marks\n",
       "count   4.000000\n",
       "mean   28.500000\n",
       "std    14.200939\n",
       "min    12.000000\n",
       "25%    20.250000\n",
       "50%    28.500000\n",
       "75%    36.750000\n",
       "max    45.000000"
      ]
     },
     "execution_count": 10,
     "metadata": {},
     "output_type": "execute_result"
    }
   ],
   "source": [
    "df.describe()"
   ]
  },
  {
   "cell_type": "code",
   "execution_count": 11,
   "id": "250e10bb-81d9-4990-865a-be2b012a3fc7",
   "metadata": {},
   "outputs": [],
   "source": [
    "vansh= pd.read_csv('friends.csv')"
   ]
  },
  {
   "cell_type": "code",
   "execution_count": 12,
   "id": "f6f5f189-eb25-4d20-8f39-dcfc68a1cfad",
   "metadata": {},
   "outputs": [
    {
     "data": {
      "text/html": [
       "<div>\n",
       "<style scoped>\n",
       "    .dataframe tbody tr th:only-of-type {\n",
       "        vertical-align: middle;\n",
       "    }\n",
       "\n",
       "    .dataframe tbody tr th {\n",
       "        vertical-align: top;\n",
       "    }\n",
       "\n",
       "    .dataframe thead th {\n",
       "        text-align: right;\n",
       "    }\n",
       "</style>\n",
       "<table border=\"1\" class=\"dataframe\">\n",
       "  <thead>\n",
       "    <tr style=\"text-align: right;\">\n",
       "      <th></th>\n",
       "      <th>Unnamed: 0</th>\n",
       "      <th>name</th>\n",
       "      <th>marks</th>\n",
       "      <th>city</th>\n",
       "    </tr>\n",
       "  </thead>\n",
       "  <tbody>\n",
       "    <tr>\n",
       "      <th>0</th>\n",
       "      <td>0</td>\n",
       "      <td>harry</td>\n",
       "      <td>12</td>\n",
       "      <td>mumbai</td>\n",
       "    </tr>\n",
       "    <tr>\n",
       "      <th>1</th>\n",
       "      <td>1</td>\n",
       "      <td>vansh</td>\n",
       "      <td>23</td>\n",
       "      <td>chennai</td>\n",
       "    </tr>\n",
       "    <tr>\n",
       "      <th>2</th>\n",
       "      <td>2</td>\n",
       "      <td>rajesh</td>\n",
       "      <td>34</td>\n",
       "      <td>kolkata</td>\n",
       "    </tr>\n",
       "    <tr>\n",
       "      <th>3</th>\n",
       "      <td>3</td>\n",
       "      <td>max</td>\n",
       "      <td>45</td>\n",
       "      <td>delhi</td>\n",
       "    </tr>\n",
       "  </tbody>\n",
       "</table>\n",
       "</div>"
      ],
      "text/plain": [
       "   Unnamed: 0    name  marks     city\n",
       "0           0   harry     12   mumbai\n",
       "1           1   vansh     23  chennai\n",
       "2           2  rajesh     34  kolkata\n",
       "3           3     max     45    delhi"
      ]
     },
     "execution_count": 12,
     "metadata": {},
     "output_type": "execute_result"
    }
   ],
   "source": [
    "vansh"
   ]
  },
  {
   "cell_type": "code",
   "execution_count": 13,
   "id": "3e37be75-bfef-4478-81ae-1b4cb0b9f2cf",
   "metadata": {},
   "outputs": [
    {
     "data": {
      "text/plain": [
       "0     harry\n",
       "1     vansh\n",
       "2    rajesh\n",
       "3       max\n",
       "Name: name, dtype: object"
      ]
     },
     "execution_count": 13,
     "metadata": {},
     "output_type": "execute_result"
    }
   ],
   "source": [
    "vansh['name']"
   ]
  },
  {
   "cell_type": "code",
   "execution_count": 14,
   "id": "a7175ee1-9f25-48c0-9885-069f988c5f97",
   "metadata": {},
   "outputs": [
    {
     "data": {
      "text/html": [
       "<div>\n",
       "<style scoped>\n",
       "    .dataframe tbody tr th:only-of-type {\n",
       "        vertical-align: middle;\n",
       "    }\n",
       "\n",
       "    .dataframe tbody tr th {\n",
       "        vertical-align: top;\n",
       "    }\n",
       "\n",
       "    .dataframe thead th {\n",
       "        text-align: right;\n",
       "    }\n",
       "</style>\n",
       "<table border=\"1\" class=\"dataframe\">\n",
       "  <thead>\n",
       "    <tr style=\"text-align: right;\">\n",
       "      <th></th>\n",
       "      <th>Unnamed: 0</th>\n",
       "      <th>name</th>\n",
       "      <th>marks</th>\n",
       "      <th>city</th>\n",
       "    </tr>\n",
       "  </thead>\n",
       "  <tbody>\n",
       "    <tr>\n",
       "      <th>0</th>\n",
       "      <td>0</td>\n",
       "      <td>harry</td>\n",
       "      <td>12</td>\n",
       "      <td>mumbai</td>\n",
       "    </tr>\n",
       "    <tr>\n",
       "      <th>1</th>\n",
       "      <td>1</td>\n",
       "      <td>vansh</td>\n",
       "      <td>23</td>\n",
       "      <td>chennai</td>\n",
       "    </tr>\n",
       "    <tr>\n",
       "      <th>2</th>\n",
       "      <td>2</td>\n",
       "      <td>rajesh</td>\n",
       "      <td>34</td>\n",
       "      <td>kolkata</td>\n",
       "    </tr>\n",
       "    <tr>\n",
       "      <th>3</th>\n",
       "      <td>3</td>\n",
       "      <td>max</td>\n",
       "      <td>45</td>\n",
       "      <td>delhi</td>\n",
       "    </tr>\n",
       "  </tbody>\n",
       "</table>\n",
       "</div>"
      ],
      "text/plain": [
       "   Unnamed: 0    name  marks     city\n",
       "0           0   harry     12   mumbai\n",
       "1           1   vansh     23  chennai\n",
       "2           2  rajesh     34  kolkata\n",
       "3           3     max     45    delhi"
      ]
     },
     "execution_count": 14,
     "metadata": {},
     "output_type": "execute_result"
    }
   ],
   "source": [
    "vansh"
   ]
  },
  {
   "cell_type": "code",
   "execution_count": 15,
   "id": "1fae37a8-5060-4b90-a6a8-a09349c481b3",
   "metadata": {},
   "outputs": [],
   "source": [
    "vansh.to_csv('vansh.csv')"
   ]
  },
  {
   "cell_type": "code",
   "execution_count": 16,
   "id": "0c6bb6be-7b2f-434a-8460-01d4b3fd1a03",
   "metadata": {},
   "outputs": [],
   "source": [
    "vansh.index=['a','b','c','d']"
   ]
  },
  {
   "cell_type": "code",
   "execution_count": 17,
   "id": "67880e04-39c1-480b-951e-f712e73678e8",
   "metadata": {},
   "outputs": [
    {
     "data": {
      "text/html": [
       "<div>\n",
       "<style scoped>\n",
       "    .dataframe tbody tr th:only-of-type {\n",
       "        vertical-align: middle;\n",
       "    }\n",
       "\n",
       "    .dataframe tbody tr th {\n",
       "        vertical-align: top;\n",
       "    }\n",
       "\n",
       "    .dataframe thead th {\n",
       "        text-align: right;\n",
       "    }\n",
       "</style>\n",
       "<table border=\"1\" class=\"dataframe\">\n",
       "  <thead>\n",
       "    <tr style=\"text-align: right;\">\n",
       "      <th></th>\n",
       "      <th>Unnamed: 0</th>\n",
       "      <th>name</th>\n",
       "      <th>marks</th>\n",
       "      <th>city</th>\n",
       "    </tr>\n",
       "  </thead>\n",
       "  <tbody>\n",
       "    <tr>\n",
       "      <th>a</th>\n",
       "      <td>0</td>\n",
       "      <td>harry</td>\n",
       "      <td>12</td>\n",
       "      <td>mumbai</td>\n",
       "    </tr>\n",
       "    <tr>\n",
       "      <th>b</th>\n",
       "      <td>1</td>\n",
       "      <td>vansh</td>\n",
       "      <td>23</td>\n",
       "      <td>chennai</td>\n",
       "    </tr>\n",
       "    <tr>\n",
       "      <th>c</th>\n",
       "      <td>2</td>\n",
       "      <td>rajesh</td>\n",
       "      <td>34</td>\n",
       "      <td>kolkata</td>\n",
       "    </tr>\n",
       "    <tr>\n",
       "      <th>d</th>\n",
       "      <td>3</td>\n",
       "      <td>max</td>\n",
       "      <td>45</td>\n",
       "      <td>delhi</td>\n",
       "    </tr>\n",
       "  </tbody>\n",
       "</table>\n",
       "</div>"
      ],
      "text/plain": [
       "   Unnamed: 0    name  marks     city\n",
       "a           0   harry     12   mumbai\n",
       "b           1   vansh     23  chennai\n",
       "c           2  rajesh     34  kolkata\n",
       "d           3     max     45    delhi"
      ]
     },
     "execution_count": 17,
     "metadata": {},
     "output_type": "execute_result"
    }
   ],
   "source": [
    "vansh\n"
   ]
  },
  {
   "cell_type": "code",
   "execution_count": 18,
   "id": "92005703-16c6-4bb9-9856-af3ea57ea360",
   "metadata": {},
   "outputs": [
    {
     "data": {
      "text/html": [
       "<div>\n",
       "<style scoped>\n",
       "    .dataframe tbody tr th:only-of-type {\n",
       "        vertical-align: middle;\n",
       "    }\n",
       "\n",
       "    .dataframe tbody tr th {\n",
       "        vertical-align: top;\n",
       "    }\n",
       "\n",
       "    .dataframe thead th {\n",
       "        text-align: right;\n",
       "    }\n",
       "</style>\n",
       "<table border=\"1\" class=\"dataframe\">\n",
       "  <thead>\n",
       "    <tr style=\"text-align: right;\">\n",
       "      <th></th>\n",
       "      <th>Unnamed: 0</th>\n",
       "      <th>name</th>\n",
       "      <th>marks</th>\n",
       "      <th>city</th>\n",
       "    </tr>\n",
       "  </thead>\n",
       "  <tbody>\n",
       "    <tr>\n",
       "      <th>a</th>\n",
       "      <td>0</td>\n",
       "      <td>harry</td>\n",
       "      <td>12</td>\n",
       "      <td>mumbai</td>\n",
       "    </tr>\n",
       "    <tr>\n",
       "      <th>b</th>\n",
       "      <td>1</td>\n",
       "      <td>vansh</td>\n",
       "      <td>23</td>\n",
       "      <td>chennai</td>\n",
       "    </tr>\n",
       "    <tr>\n",
       "      <th>c</th>\n",
       "      <td>2</td>\n",
       "      <td>rajesh</td>\n",
       "      <td>34</td>\n",
       "      <td>kolkata</td>\n",
       "    </tr>\n",
       "    <tr>\n",
       "      <th>d</th>\n",
       "      <td>3</td>\n",
       "      <td>max</td>\n",
       "      <td>45</td>\n",
       "      <td>delhi</td>\n",
       "    </tr>\n",
       "  </tbody>\n",
       "</table>\n",
       "</div>"
      ],
      "text/plain": [
       "   Unnamed: 0    name  marks     city\n",
       "a           0   harry     12   mumbai\n",
       "b           1   vansh     23  chennai\n",
       "c           2  rajesh     34  kolkata\n",
       "d           3     max     45    delhi"
      ]
     },
     "execution_count": 18,
     "metadata": {},
     "output_type": "execute_result"
    }
   ],
   "source": [
    "vansh"
   ]
  },
  {
   "cell_type": "code",
   "execution_count": 19,
   "id": "6a874fb3-b7cb-4091-9ff9-08decc36fe56",
   "metadata": {},
   "outputs": [],
   "source": [
    "ser2=pd.Series(np.random.rand(34))"
   ]
  },
  {
   "cell_type": "code",
   "execution_count": 20,
   "id": "f2f1054b-fe69-4dbd-a382-7f24fa9d6b5a",
   "metadata": {},
   "outputs": [
    {
     "data": {
      "text/plain": [
       "0     0.494770\n",
       "1     0.189105\n",
       "2     0.175954\n",
       "3     0.220309\n",
       "4     0.885372\n",
       "5     0.941152\n",
       "6     0.249126\n",
       "7     0.538233\n",
       "8     0.059147\n",
       "9     0.929609\n",
       "10    0.727447\n",
       "11    0.690296\n",
       "12    0.162593\n",
       "13    0.805164\n",
       "14    0.953321\n",
       "15    0.350171\n",
       "16    0.463615\n",
       "17    0.941570\n",
       "18    0.993543\n",
       "19    0.941488\n",
       "20    0.749733\n",
       "21    0.047520\n",
       "22    0.776727\n",
       "23    0.284417\n",
       "24    0.751649\n",
       "25    0.204150\n",
       "26    0.348845\n",
       "27    0.576561\n",
       "28    0.371499\n",
       "29    0.853908\n",
       "30    0.652776\n",
       "31    0.146980\n",
       "32    0.950807\n",
       "33    0.469816\n",
       "dtype: float64"
      ]
     },
     "execution_count": 20,
     "metadata": {},
     "output_type": "execute_result"
    }
   ],
   "source": [
    "ser2"
   ]
  },
  {
   "cell_type": "code",
   "execution_count": 21,
   "id": "e48b7fab-0bea-458e-bd52-09ae6dc3fcc9",
   "metadata": {},
   "outputs": [],
   "source": [
    "ser=pd.DataFrame(np.random.rand(334,5),index=np.arange(334))"
   ]
  },
  {
   "cell_type": "code",
   "execution_count": 22,
   "id": "7a9806a9-9a79-4b9d-83a9-68eba09851e1",
   "metadata": {},
   "outputs": [
    {
     "data": {
      "text/html": [
       "<div>\n",
       "<style scoped>\n",
       "    .dataframe tbody tr th:only-of-type {\n",
       "        vertical-align: middle;\n",
       "    }\n",
       "\n",
       "    .dataframe tbody tr th {\n",
       "        vertical-align: top;\n",
       "    }\n",
       "\n",
       "    .dataframe thead th {\n",
       "        text-align: right;\n",
       "    }\n",
       "</style>\n",
       "<table border=\"1\" class=\"dataframe\">\n",
       "  <thead>\n",
       "    <tr style=\"text-align: right;\">\n",
       "      <th></th>\n",
       "      <th>0</th>\n",
       "      <th>1</th>\n",
       "      <th>2</th>\n",
       "      <th>3</th>\n",
       "      <th>4</th>\n",
       "    </tr>\n",
       "  </thead>\n",
       "  <tbody>\n",
       "    <tr>\n",
       "      <th>0</th>\n",
       "      <td>0.484609</td>\n",
       "      <td>0.916972</td>\n",
       "      <td>0.794103</td>\n",
       "      <td>0.156086</td>\n",
       "      <td>0.539913</td>\n",
       "    </tr>\n",
       "    <tr>\n",
       "      <th>1</th>\n",
       "      <td>0.047462</td>\n",
       "      <td>0.993891</td>\n",
       "      <td>0.153975</td>\n",
       "      <td>0.922025</td>\n",
       "      <td>0.725175</td>\n",
       "    </tr>\n",
       "    <tr>\n",
       "      <th>2</th>\n",
       "      <td>0.002218</td>\n",
       "      <td>0.336681</td>\n",
       "      <td>0.432846</td>\n",
       "      <td>0.682589</td>\n",
       "      <td>0.346592</td>\n",
       "    </tr>\n",
       "    <tr>\n",
       "      <th>3</th>\n",
       "      <td>0.545994</td>\n",
       "      <td>0.481042</td>\n",
       "      <td>0.453650</td>\n",
       "      <td>0.581031</td>\n",
       "      <td>0.425159</td>\n",
       "    </tr>\n",
       "    <tr>\n",
       "      <th>4</th>\n",
       "      <td>0.227947</td>\n",
       "      <td>0.335205</td>\n",
       "      <td>0.422163</td>\n",
       "      <td>0.775736</td>\n",
       "      <td>0.920238</td>\n",
       "    </tr>\n",
       "    <tr>\n",
       "      <th>...</th>\n",
       "      <td>...</td>\n",
       "      <td>...</td>\n",
       "      <td>...</td>\n",
       "      <td>...</td>\n",
       "      <td>...</td>\n",
       "    </tr>\n",
       "    <tr>\n",
       "      <th>329</th>\n",
       "      <td>0.414544</td>\n",
       "      <td>0.615181</td>\n",
       "      <td>0.617502</td>\n",
       "      <td>0.922850</td>\n",
       "      <td>0.156956</td>\n",
       "    </tr>\n",
       "    <tr>\n",
       "      <th>330</th>\n",
       "      <td>0.911351</td>\n",
       "      <td>0.798050</td>\n",
       "      <td>0.498373</td>\n",
       "      <td>0.801865</td>\n",
       "      <td>0.484596</td>\n",
       "    </tr>\n",
       "    <tr>\n",
       "      <th>331</th>\n",
       "      <td>0.773898</td>\n",
       "      <td>0.323143</td>\n",
       "      <td>0.639198</td>\n",
       "      <td>0.527970</td>\n",
       "      <td>0.996399</td>\n",
       "    </tr>\n",
       "    <tr>\n",
       "      <th>332</th>\n",
       "      <td>0.958235</td>\n",
       "      <td>0.080110</td>\n",
       "      <td>0.914576</td>\n",
       "      <td>0.529248</td>\n",
       "      <td>0.327117</td>\n",
       "    </tr>\n",
       "    <tr>\n",
       "      <th>333</th>\n",
       "      <td>0.367038</td>\n",
       "      <td>0.170735</td>\n",
       "      <td>0.386038</td>\n",
       "      <td>0.634983</td>\n",
       "      <td>0.418779</td>\n",
       "    </tr>\n",
       "  </tbody>\n",
       "</table>\n",
       "<p>334 rows × 5 columns</p>\n",
       "</div>"
      ],
      "text/plain": [
       "            0         1         2         3         4\n",
       "0    0.484609  0.916972  0.794103  0.156086  0.539913\n",
       "1    0.047462  0.993891  0.153975  0.922025  0.725175\n",
       "2    0.002218  0.336681  0.432846  0.682589  0.346592\n",
       "3    0.545994  0.481042  0.453650  0.581031  0.425159\n",
       "4    0.227947  0.335205  0.422163  0.775736  0.920238\n",
       "..        ...       ...       ...       ...       ...\n",
       "329  0.414544  0.615181  0.617502  0.922850  0.156956\n",
       "330  0.911351  0.798050  0.498373  0.801865  0.484596\n",
       "331  0.773898  0.323143  0.639198  0.527970  0.996399\n",
       "332  0.958235  0.080110  0.914576  0.529248  0.327117\n",
       "333  0.367038  0.170735  0.386038  0.634983  0.418779\n",
       "\n",
       "[334 rows x 5 columns]"
      ]
     },
     "execution_count": 22,
     "metadata": {},
     "output_type": "execute_result"
    }
   ],
   "source": [
    "ser"
   ]
  },
  {
   "cell_type": "code",
   "execution_count": 25,
   "id": "9783abce-a42c-4fb1-b853-cd482da94306",
   "metadata": {},
   "outputs": [
    {
     "data": {
      "text/plain": [
       "pandas.core.series.Series"
      ]
     },
     "execution_count": 25,
     "metadata": {},
     "output_type": "execute_result"
    }
   ],
   "source": [
    "type(ser2)"
   ]
  },
  {
   "cell_type": "code",
   "execution_count": 26,
   "id": "8d01b0ad-cf19-43fc-90cb-ebb0c646057b",
   "metadata": {},
   "outputs": [
    {
     "data": {
      "text/html": [
       "<div>\n",
       "<style scoped>\n",
       "    .dataframe tbody tr th:only-of-type {\n",
       "        vertical-align: middle;\n",
       "    }\n",
       "\n",
       "    .dataframe tbody tr th {\n",
       "        vertical-align: top;\n",
       "    }\n",
       "\n",
       "    .dataframe thead th {\n",
       "        text-align: right;\n",
       "    }\n",
       "</style>\n",
       "<table border=\"1\" class=\"dataframe\">\n",
       "  <thead>\n",
       "    <tr style=\"text-align: right;\">\n",
       "      <th></th>\n",
       "      <th>0</th>\n",
       "      <th>1</th>\n",
       "      <th>2</th>\n",
       "      <th>3</th>\n",
       "      <th>4</th>\n",
       "    </tr>\n",
       "  </thead>\n",
       "  <tbody>\n",
       "    <tr>\n",
       "      <th>count</th>\n",
       "      <td>334.000000</td>\n",
       "      <td>334.000000</td>\n",
       "      <td>334.000000</td>\n",
       "      <td>334.000000</td>\n",
       "      <td>334.000000</td>\n",
       "    </tr>\n",
       "    <tr>\n",
       "      <th>mean</th>\n",
       "      <td>0.498164</td>\n",
       "      <td>0.525741</td>\n",
       "      <td>0.500157</td>\n",
       "      <td>0.493773</td>\n",
       "      <td>0.504579</td>\n",
       "    </tr>\n",
       "    <tr>\n",
       "      <th>std</th>\n",
       "      <td>0.282648</td>\n",
       "      <td>0.287001</td>\n",
       "      <td>0.296133</td>\n",
       "      <td>0.291015</td>\n",
       "      <td>0.285088</td>\n",
       "    </tr>\n",
       "    <tr>\n",
       "      <th>min</th>\n",
       "      <td>0.002218</td>\n",
       "      <td>0.014246</td>\n",
       "      <td>0.003768</td>\n",
       "      <td>0.001828</td>\n",
       "      <td>0.000385</td>\n",
       "    </tr>\n",
       "    <tr>\n",
       "      <th>25%</th>\n",
       "      <td>0.276512</td>\n",
       "      <td>0.273816</td>\n",
       "      <td>0.240746</td>\n",
       "      <td>0.237144</td>\n",
       "      <td>0.259067</td>\n",
       "    </tr>\n",
       "    <tr>\n",
       "      <th>50%</th>\n",
       "      <td>0.503458</td>\n",
       "      <td>0.530099</td>\n",
       "      <td>0.508795</td>\n",
       "      <td>0.481068</td>\n",
       "      <td>0.481354</td>\n",
       "    </tr>\n",
       "    <tr>\n",
       "      <th>75%</th>\n",
       "      <td>0.755731</td>\n",
       "      <td>0.787405</td>\n",
       "      <td>0.755484</td>\n",
       "      <td>0.748914</td>\n",
       "      <td>0.777138</td>\n",
       "    </tr>\n",
       "    <tr>\n",
       "      <th>max</th>\n",
       "      <td>0.990927</td>\n",
       "      <td>0.995829</td>\n",
       "      <td>0.997687</td>\n",
       "      <td>0.999823</td>\n",
       "      <td>0.996973</td>\n",
       "    </tr>\n",
       "  </tbody>\n",
       "</table>\n",
       "</div>"
      ],
      "text/plain": [
       "                0           1           2           3           4\n",
       "count  334.000000  334.000000  334.000000  334.000000  334.000000\n",
       "mean     0.498164    0.525741    0.500157    0.493773    0.504579\n",
       "std      0.282648    0.287001    0.296133    0.291015    0.285088\n",
       "min      0.002218    0.014246    0.003768    0.001828    0.000385\n",
       "25%      0.276512    0.273816    0.240746    0.237144    0.259067\n",
       "50%      0.503458    0.530099    0.508795    0.481068    0.481354\n",
       "75%      0.755731    0.787405    0.755484    0.748914    0.777138\n",
       "max      0.990927    0.995829    0.997687    0.999823    0.996973"
      ]
     },
     "execution_count": 26,
     "metadata": {},
     "output_type": "execute_result"
    }
   ],
   "source": [
    "ser.describe()"
   ]
  },
  {
   "cell_type": "code",
   "execution_count": 27,
   "id": "ac21c880-9b96-40da-b848-c1844512be58",
   "metadata": {},
   "outputs": [
    {
     "data": {
      "text/plain": [
       "0    float64\n",
       "1    float64\n",
       "2    float64\n",
       "3    float64\n",
       "4    float64\n",
       "dtype: object"
      ]
     },
     "execution_count": 27,
     "metadata": {},
     "output_type": "execute_result"
    }
   ],
   "source": [
    "ser.dtypes"
   ]
  },
  {
   "cell_type": "code",
   "execution_count": 28,
   "id": "766a0467-5cca-438f-9a4c-b99411574cdb",
   "metadata": {},
   "outputs": [
    {
     "data": {
      "text/plain": [
       "RangeIndex(start=0, stop=34, step=1)"
      ]
     },
     "execution_count": 28,
     "metadata": {},
     "output_type": "execute_result"
    }
   ],
   "source": [
    "ser2.index"
   ]
  },
  {
   "cell_type": "code",
   "execution_count": 29,
   "id": "35d87c63-8a9c-4efd-b306-920862f4b012",
   "metadata": {},
   "outputs": [
    {
     "data": {
      "text/plain": [
       "0     0.494770\n",
       "1     0.189105\n",
       "2     0.175954\n",
       "3     0.220309\n",
       "4     0.885372\n",
       "5     0.941152\n",
       "6     0.249126\n",
       "7     0.538233\n",
       "8     0.059147\n",
       "9     0.929609\n",
       "10    0.727447\n",
       "11    0.690296\n",
       "12    0.162593\n",
       "13    0.805164\n",
       "14    0.953321\n",
       "15    0.350171\n",
       "16    0.463615\n",
       "17    0.941570\n",
       "18    0.993543\n",
       "19    0.941488\n",
       "20    0.749733\n",
       "21    0.047520\n",
       "22    0.776727\n",
       "23    0.284417\n",
       "24    0.751649\n",
       "25    0.204150\n",
       "26    0.348845\n",
       "27    0.576561\n",
       "28    0.371499\n",
       "29    0.853908\n",
       "30    0.652776\n",
       "31    0.146980\n",
       "32    0.950807\n",
       "33    0.469816\n",
       "dtype: float64"
      ]
     },
     "execution_count": 29,
     "metadata": {},
     "output_type": "execute_result"
    }
   ],
   "source": [
    "ser2"
   ]
  },
  {
   "cell_type": "code",
   "execution_count": 30,
   "id": "9e470b12-bf7b-4bd2-8433-6e519a51a2ac",
   "metadata": {},
   "outputs": [
    {
     "data": {
      "text/plain": [
       "array([0.49477013, 0.18910472, 0.17595408, 0.22030904, 0.88537211,\n",
       "       0.94115235, 0.24912597, 0.53823326, 0.05914724, 0.92960929,\n",
       "       0.72744651, 0.69029583, 0.16259296, 0.80516378, 0.95332121,\n",
       "       0.35017133, 0.46361456, 0.94156983, 0.9935426 , 0.94148807,\n",
       "       0.74973302, 0.04751989, 0.77672713, 0.28441746, 0.75164866,\n",
       "       0.20414982, 0.34884454, 0.57656072, 0.371499  , 0.85390811,\n",
       "       0.6527756 , 0.14698024, 0.95080672, 0.46981613])"
      ]
     },
     "execution_count": 30,
     "metadata": {},
     "output_type": "execute_result"
    }
   ],
   "source": [
    "ser2.to_numpy()"
   ]
  },
  {
   "cell_type": "code",
   "execution_count": 31,
   "id": "c3bfa0d8-e9e6-434b-aa1e-0479908812d1",
   "metadata": {},
   "outputs": [
    {
     "data": {
      "text/plain": [
       "0     0.494770\n",
       "1     0.189105\n",
       "2     0.175954\n",
       "3     0.220309\n",
       "4     0.885372\n",
       "5     0.941152\n",
       "6     0.249126\n",
       "7     0.538233\n",
       "8     0.059147\n",
       "9     0.929609\n",
       "10    0.727447\n",
       "11    0.690296\n",
       "12    0.162593\n",
       "13    0.805164\n",
       "14    0.953321\n",
       "15    0.350171\n",
       "16    0.463615\n",
       "17    0.941570\n",
       "18    0.993543\n",
       "19    0.941488\n",
       "20    0.749733\n",
       "21    0.047520\n",
       "22    0.776727\n",
       "23    0.284417\n",
       "24    0.751649\n",
       "25    0.204150\n",
       "26    0.348845\n",
       "27    0.576561\n",
       "28    0.371499\n",
       "29    0.853908\n",
       "30    0.652776\n",
       "31    0.146980\n",
       "32    0.950807\n",
       "33    0.469816\n",
       "dtype: float64"
      ]
     },
     "execution_count": 31,
     "metadata": {},
     "output_type": "execute_result"
    }
   ],
   "source": [
    "ser2.T"
   ]
  },
  {
   "cell_type": "code",
   "execution_count": 32,
   "id": "0020b1bd-e1d3-4b01-a8d2-a51850732d1b",
   "metadata": {},
   "outputs": [],
   "source": [
    "ser2=pd.Series(np.random.rand(34))\n",
    "\n"
   ]
  },
  {
   "cell_type": "code",
   "execution_count": 34,
   "id": "ba5404e7-9f57-4086-b77b-77cc1a69840b",
   "metadata": {},
   "outputs": [
    {
     "data": {
      "text/plain": [
       "0     0.943761\n",
       "1     0.597672\n",
       "2     0.215164\n",
       "3     0.660486\n",
       "4     0.048517\n",
       "5     0.691757\n",
       "6     0.127916\n",
       "7     0.690125\n",
       "8     0.005382\n",
       "9     0.658903\n",
       "10    0.253805\n",
       "11    0.186352\n",
       "12    0.933508\n",
       "13    0.598029\n",
       "14    0.309477\n",
       "15    0.813569\n",
       "16    0.193808\n",
       "17    0.704839\n",
       "18    0.269643\n",
       "19    0.383224\n",
       "20    0.431287\n",
       "21    0.846947\n",
       "22    0.878237\n",
       "23    0.289173\n",
       "24    0.560115\n",
       "25    0.532838\n",
       "26    0.714262\n",
       "27    0.818443\n",
       "28    0.398106\n",
       "29    0.689973\n",
       "30    0.671563\n",
       "31    0.335898\n",
       "32    0.721249\n",
       "33    0.210504\n",
       "dtype: float64"
      ]
     },
     "execution_count": 34,
     "metadata": {},
     "output_type": "execute_result"
    }
   ],
   "source": [
    "ser2\n"
   ]
  }
 ],
 "metadata": {
  "kernelspec": {
   "display_name": "Python 3 (ipykernel)",
   "language": "python",
   "name": "python3"
  },
  "language_info": {
   "codemirror_mode": {
    "name": "ipython",
    "version": 3
   },
   "file_extension": ".py",
   "mimetype": "text/x-python",
   "name": "python",
   "nbconvert_exporter": "python",
   "pygments_lexer": "ipython3",
   "version": "3.12.1"
  }
 },
 "nbformat": 4,
 "nbformat_minor": 5
}
